{
 "cells": [
  {
   "cell_type": "code",
   "execution_count": 1,
   "id": "a8a2a641",
   "metadata": {
    "execution": {
     "iopub.execute_input": "2024-04-09T23:00:36.760155Z",
     "iopub.status.busy": "2024-04-09T23:00:36.759763Z",
     "iopub.status.idle": "2024-04-09T23:00:44.873815Z",
     "shell.execute_reply": "2024-04-09T23:00:44.872273Z"
    },
    "papermill": {
     "duration": 8.129958,
     "end_time": "2024-04-09T23:00:44.877495",
     "exception": false,
     "start_time": "2024-04-09T23:00:36.747537",
     "status": "completed"
    },
    "tags": []
   },
   "outputs": [
    {
     "data": {
      "text/html": [
       "<div>\n",
       "<style scoped>\n",
       "    .dataframe tbody tr th:only-of-type {\n",
       "        vertical-align: middle;\n",
       "    }\n",
       "\n",
       "    .dataframe tbody tr th {\n",
       "        vertical-align: top;\n",
       "    }\n",
       "\n",
       "    .dataframe thead th {\n",
       "        text-align: right;\n",
       "    }\n",
       "</style>\n",
       "<table border=\"1\" class=\"dataframe\">\n",
       "  <thead>\n",
       "    <tr style=\"text-align: right;\">\n",
       "      <th></th>\n",
       "      <th>Survived</th>\n",
       "      <th>Pclass</th>\n",
       "      <th>Name</th>\n",
       "      <th>Sex</th>\n",
       "      <th>Age</th>\n",
       "      <th>SibSp</th>\n",
       "      <th>Parch</th>\n",
       "      <th>Ticket</th>\n",
       "      <th>Fare</th>\n",
       "      <th>Cabin</th>\n",
       "      <th>Embarked</th>\n",
       "    </tr>\n",
       "  </thead>\n",
       "  <tbody>\n",
       "    <tr>\n",
       "      <th>0</th>\n",
       "      <td>0</td>\n",
       "      <td>3</td>\n",
       "      <td>Braund, Mr. Owen Harris</td>\n",
       "      <td>male</td>\n",
       "      <td>22.0</td>\n",
       "      <td>1</td>\n",
       "      <td>0</td>\n",
       "      <td>A/5 21171</td>\n",
       "      <td>7.2500</td>\n",
       "      <td>NaN</td>\n",
       "      <td>S</td>\n",
       "    </tr>\n",
       "    <tr>\n",
       "      <th>1</th>\n",
       "      <td>1</td>\n",
       "      <td>1</td>\n",
       "      <td>Cumings, Mrs. John Bradley (Florence Briggs Thayer)</td>\n",
       "      <td>female</td>\n",
       "      <td>38.0</td>\n",
       "      <td>1</td>\n",
       "      <td>0</td>\n",
       "      <td>PC 17599</td>\n",
       "      <td>71.2833</td>\n",
       "      <td>C85</td>\n",
       "      <td>C</td>\n",
       "    </tr>\n",
       "    <tr>\n",
       "      <th>2</th>\n",
       "      <td>1</td>\n",
       "      <td>3</td>\n",
       "      <td>Heikkinen, Miss. Laina</td>\n",
       "      <td>female</td>\n",
       "      <td>26.0</td>\n",
       "      <td>0</td>\n",
       "      <td>0</td>\n",
       "      <td>STON/O2. 3101282</td>\n",
       "      <td>7.9250</td>\n",
       "      <td>NaN</td>\n",
       "      <td>S</td>\n",
       "    </tr>\n",
       "    <tr>\n",
       "      <th>3</th>\n",
       "      <td>1</td>\n",
       "      <td>1</td>\n",
       "      <td>Futrelle, Mrs. Jacques Heath (Lily May Peel)</td>\n",
       "      <td>female</td>\n",
       "      <td>35.0</td>\n",
       "      <td>1</td>\n",
       "      <td>0</td>\n",
       "      <td>113803</td>\n",
       "      <td>53.1000</td>\n",
       "      <td>C123</td>\n",
       "      <td>S</td>\n",
       "    </tr>\n",
       "    <tr>\n",
       "      <th>4</th>\n",
       "      <td>0</td>\n",
       "      <td>3</td>\n",
       "      <td>Allen, Mr. William Henry</td>\n",
       "      <td>male</td>\n",
       "      <td>35.0</td>\n",
       "      <td>0</td>\n",
       "      <td>0</td>\n",
       "      <td>373450</td>\n",
       "      <td>8.0500</td>\n",
       "      <td>NaN</td>\n",
       "      <td>S</td>\n",
       "    </tr>\n",
       "  </tbody>\n",
       "</table>\n",
       "</div>"
      ],
      "text/plain": [
       "   Survived  Pclass                                                 Name  \\\n",
       "0         0       3                              Braund, Mr. Owen Harris   \n",
       "1         1       1  Cumings, Mrs. John Bradley (Florence Briggs Thayer)   \n",
       "2         1       3                               Heikkinen, Miss. Laina   \n",
       "3         1       1         Futrelle, Mrs. Jacques Heath (Lily May Peel)   \n",
       "4         0       3                             Allen, Mr. William Henry   \n",
       "\n",
       "      Sex   Age  SibSp  Parch            Ticket     Fare Cabin Embarked  \n",
       "0    male  22.0      1      0         A/5 21171   7.2500   NaN        S  \n",
       "1  female  38.0      1      0          PC 17599  71.2833   C85        C  \n",
       "2  female  26.0      0      0  STON/O2. 3101282   7.9250   NaN        S  \n",
       "3  female  35.0      1      0            113803  53.1000  C123        S  \n",
       "4    male  35.0      0      0            373450   8.0500   NaN        S  "
      ]
     },
     "execution_count": 1,
     "metadata": {},
     "output_type": "execute_result"
    }
   ],
   "source": [
    "from fastai.tabular.all import *\n",
    "df = pd.read_csv('/kaggle/input/titanic/train.csv')\n",
    "df.drop('PassengerId', axis=1, inplace=True)\n",
    "df.head()"
   ]
  },
  {
   "cell_type": "code",
   "execution_count": 2,
   "id": "bde3e359",
   "metadata": {
    "execution": {
     "iopub.execute_input": "2024-04-09T23:00:44.901626Z",
     "iopub.status.busy": "2024-04-09T23:00:44.900696Z",
     "iopub.status.idle": "2024-04-09T23:00:45.069558Z",
     "shell.execute_reply": "2024-04-09T23:00:45.067904Z"
    },
    "papermill": {
     "duration": 0.182992,
     "end_time": "2024-04-09T23:00:45.072535",
     "exception": false,
     "start_time": "2024-04-09T23:00:44.889543",
     "status": "completed"
    },
    "tags": []
   },
   "outputs": [
    {
     "name": "stderr",
     "output_type": "stream",
     "text": [
      "/opt/conda/lib/python3.10/site-packages/fastai/tabular/core.py:312: FutureWarning: A value is trying to be set on a copy of a DataFrame or Series through chained assignment using an inplace method.\n",
      "The behavior will change in pandas 3.0. This inplace method will never work because the intermediate object on which we are setting values always behaves as a copy.\n",
      "\n",
      "For example, when doing 'df[col].method(value, inplace=True)', try using 'df.method({col: value}, inplace=True)' or df[col] = df[col].method(value) instead, to perform the operation inplace on the original object.\n",
      "\n",
      "\n",
      "  to[n].fillna(self.na_dict[n], inplace=True)\n"
     ]
    }
   ],
   "source": [
    "dls = TabularDataLoaders.from_csv('/kaggle/input/titanic/train.csv', y_names=\"Survived\", y_block = CategoryBlock,\n",
    "    cat_names = ['PassengerId', 'Pclass', 'Name', 'Sex', 'Cabin', 'Embarked', 'Ticket'],\n",
    "    cont_names = ['Age', 'Fare', 'SibSp', 'Parch'],\n",
    "    procs = [Categorify, FillMissing, Normalize])"
   ]
  },
  {
   "cell_type": "code",
   "execution_count": 3,
   "id": "e56fc206",
   "metadata": {
    "execution": {
     "iopub.execute_input": "2024-04-09T23:00:45.092421Z",
     "iopub.status.busy": "2024-04-09T23:00:45.091956Z",
     "iopub.status.idle": "2024-04-09T23:00:45.146274Z",
     "shell.execute_reply": "2024-04-09T23:00:45.144663Z"
    },
    "papermill": {
     "duration": 0.067186,
     "end_time": "2024-04-09T23:00:45.148863",
     "exception": false,
     "start_time": "2024-04-09T23:00:45.081677",
     "status": "completed"
    },
    "tags": []
   },
   "outputs": [
    {
     "data": {
      "text/html": [
       "<table border=\"1\" class=\"dataframe\">\n",
       "  <thead>\n",
       "    <tr style=\"text-align: right;\">\n",
       "      <th></th>\n",
       "      <th>PassengerId</th>\n",
       "      <th>Pclass</th>\n",
       "      <th>Name</th>\n",
       "      <th>Sex</th>\n",
       "      <th>Cabin</th>\n",
       "      <th>Embarked</th>\n",
       "      <th>Ticket</th>\n",
       "      <th>Age_na</th>\n",
       "      <th>Age</th>\n",
       "      <th>Fare</th>\n",
       "      <th>SibSp</th>\n",
       "      <th>Parch</th>\n",
       "      <th>Survived</th>\n",
       "    </tr>\n",
       "  </thead>\n",
       "  <tbody>\n",
       "    <tr>\n",
       "      <th>0</th>\n",
       "      <td>593</td>\n",
       "      <td>3</td>\n",
       "      <td>Elsbury, Mr. William James</td>\n",
       "      <td>male</td>\n",
       "      <td>#na#</td>\n",
       "      <td>S</td>\n",
       "      <td>A/5 3902</td>\n",
       "      <td>False</td>\n",
       "      <td>47.000000</td>\n",
       "      <td>7.250001</td>\n",
       "      <td>-1.072517e-09</td>\n",
       "      <td>-9.935691e-09</td>\n",
       "      <td>0</td>\n",
       "    </tr>\n",
       "    <tr>\n",
       "      <th>1</th>\n",
       "      <td>362</td>\n",
       "      <td>2</td>\n",
       "      <td>del Carlo, Mr. Sebastiano</td>\n",
       "      <td>male</td>\n",
       "      <td>#na#</td>\n",
       "      <td>C</td>\n",
       "      <td>SC/PARIS 2167</td>\n",
       "      <td>False</td>\n",
       "      <td>29.000000</td>\n",
       "      <td>27.720800</td>\n",
       "      <td>1.000000e+00</td>\n",
       "      <td>-9.935691e-09</td>\n",
       "      <td>0</td>\n",
       "    </tr>\n",
       "    <tr>\n",
       "      <th>2</th>\n",
       "      <td>334</td>\n",
       "      <td>3</td>\n",
       "      <td>Vander Planke, Mr. Leo Edmondus</td>\n",
       "      <td>male</td>\n",
       "      <td>#na#</td>\n",
       "      <td>S</td>\n",
       "      <td>345764</td>\n",
       "      <td>False</td>\n",
       "      <td>16.000001</td>\n",
       "      <td>18.000000</td>\n",
       "      <td>2.000000e+00</td>\n",
       "      <td>-9.935691e-09</td>\n",
       "      <td>0</td>\n",
       "    </tr>\n",
       "    <tr>\n",
       "      <th>3</th>\n",
       "      <td>231</td>\n",
       "      <td>1</td>\n",
       "      <td>Harris, Mrs. Henry Birkhardt (Irene Wallach)</td>\n",
       "      <td>female</td>\n",
       "      <td>C83</td>\n",
       "      <td>S</td>\n",
       "      <td>36973</td>\n",
       "      <td>False</td>\n",
       "      <td>35.000000</td>\n",
       "      <td>83.475000</td>\n",
       "      <td>1.000000e+00</td>\n",
       "      <td>-9.935691e-09</td>\n",
       "      <td>1</td>\n",
       "    </tr>\n",
       "    <tr>\n",
       "      <th>4</th>\n",
       "      <td>508</td>\n",
       "      <td>1</td>\n",
       "      <td>Bradley, Mr. George (\"George Arthur Brayton\")</td>\n",
       "      <td>male</td>\n",
       "      <td>#na#</td>\n",
       "      <td>S</td>\n",
       "      <td>111427</td>\n",
       "      <td>True</td>\n",
       "      <td>28.500000</td>\n",
       "      <td>26.549999</td>\n",
       "      <td>-1.072517e-09</td>\n",
       "      <td>-9.935691e-09</td>\n",
       "      <td>1</td>\n",
       "    </tr>\n",
       "    <tr>\n",
       "      <th>5</th>\n",
       "      <td>585</td>\n",
       "      <td>3</td>\n",
       "      <td>Paulner, Mr. Uscher</td>\n",
       "      <td>male</td>\n",
       "      <td>#na#</td>\n",
       "      <td>C</td>\n",
       "      <td>3411</td>\n",
       "      <td>True</td>\n",
       "      <td>28.500000</td>\n",
       "      <td>8.712500</td>\n",
       "      <td>-1.072517e-09</td>\n",
       "      <td>-9.935691e-09</td>\n",
       "      <td>0</td>\n",
       "    </tr>\n",
       "    <tr>\n",
       "      <th>6</th>\n",
       "      <td>455</td>\n",
       "      <td>3</td>\n",
       "      <td>Peduzzi, Mr. Joseph</td>\n",
       "      <td>male</td>\n",
       "      <td>#na#</td>\n",
       "      <td>S</td>\n",
       "      <td>A/5 2817</td>\n",
       "      <td>True</td>\n",
       "      <td>28.500000</td>\n",
       "      <td>8.050000</td>\n",
       "      <td>-1.072517e-09</td>\n",
       "      <td>-9.935691e-09</td>\n",
       "      <td>0</td>\n",
       "    </tr>\n",
       "    <tr>\n",
       "      <th>7</th>\n",
       "      <td>258</td>\n",
       "      <td>1</td>\n",
       "      <td>Cherry, Miss. Gladys</td>\n",
       "      <td>female</td>\n",
       "      <td>B77</td>\n",
       "      <td>S</td>\n",
       "      <td>110152</td>\n",
       "      <td>False</td>\n",
       "      <td>30.000000</td>\n",
       "      <td>86.499999</td>\n",
       "      <td>-1.072517e-09</td>\n",
       "      <td>-9.935691e-09</td>\n",
       "      <td>1</td>\n",
       "    </tr>\n",
       "    <tr>\n",
       "      <th>8</th>\n",
       "      <td>706</td>\n",
       "      <td>2</td>\n",
       "      <td>Morley, Mr. Henry Samuel (\"Mr Henry Marshall\")</td>\n",
       "      <td>male</td>\n",
       "      <td>#na#</td>\n",
       "      <td>S</td>\n",
       "      <td>250655</td>\n",
       "      <td>False</td>\n",
       "      <td>39.000000</td>\n",
       "      <td>26.000000</td>\n",
       "      <td>-1.072517e-09</td>\n",
       "      <td>-9.935691e-09</td>\n",
       "      <td>0</td>\n",
       "    </tr>\n",
       "    <tr>\n",
       "      <th>9</th>\n",
       "      <td>761</td>\n",
       "      <td>3</td>\n",
       "      <td>Garfirth, Mr. John</td>\n",
       "      <td>male</td>\n",
       "      <td>#na#</td>\n",
       "      <td>S</td>\n",
       "      <td>358585</td>\n",
       "      <td>True</td>\n",
       "      <td>28.500000</td>\n",
       "      <td>14.499999</td>\n",
       "      <td>-1.072517e-09</td>\n",
       "      <td>-9.935691e-09</td>\n",
       "      <td>0</td>\n",
       "    </tr>\n",
       "  </tbody>\n",
       "</table>"
      ],
      "text/plain": [
       "<IPython.core.display.HTML object>"
      ]
     },
     "metadata": {},
     "output_type": "display_data"
    }
   ],
   "source": [
    "dls.show_batch()"
   ]
  },
  {
   "cell_type": "code",
   "execution_count": 4,
   "id": "bdb0c1e6",
   "metadata": {
    "execution": {
     "iopub.execute_input": "2024-04-09T23:00:45.169266Z",
     "iopub.status.busy": "2024-04-09T23:00:45.168374Z",
     "iopub.status.idle": "2024-04-09T23:00:45.220531Z",
     "shell.execute_reply": "2024-04-09T23:00:45.219530Z"
    },
    "papermill": {
     "duration": 0.065423,
     "end_time": "2024-04-09T23:00:45.223422",
     "exception": false,
     "start_time": "2024-04-09T23:00:45.157999",
     "status": "completed"
    },
    "tags": []
   },
   "outputs": [],
   "source": [
    "learn = tabular_learner(dls, metrics=accuracy)"
   ]
  },
  {
   "cell_type": "code",
   "execution_count": 5,
   "id": "078d037c",
   "metadata": {
    "execution": {
     "iopub.execute_input": "2024-04-09T23:00:45.244509Z",
     "iopub.status.busy": "2024-04-09T23:00:45.243247Z",
     "iopub.status.idle": "2024-04-09T23:00:45.969549Z",
     "shell.execute_reply": "2024-04-09T23:00:45.968357Z"
    },
    "papermill": {
     "duration": 0.739685,
     "end_time": "2024-04-09T23:00:45.972252",
     "exception": false,
     "start_time": "2024-04-09T23:00:45.232567",
     "status": "completed"
    },
    "tags": []
   },
   "outputs": [
    {
     "data": {
      "text/html": [
       "\n",
       "<style>\n",
       "    /* Turns off some styling */\n",
       "    progress {\n",
       "        /* gets rid of default border in Firefox and Opera. */\n",
       "        border: none;\n",
       "        /* Needs to be in here for Safari polyfill so background images work as expected. */\n",
       "        background-size: auto;\n",
       "    }\n",
       "    progress:not([value]), progress:not([value])::-webkit-progress-bar {\n",
       "        background: repeating-linear-gradient(45deg, #7e7e7e, #7e7e7e 10px, #5c5c5c 10px, #5c5c5c 20px);\n",
       "    }\n",
       "    .progress-bar-interrupted, .progress-bar-interrupted::-webkit-progress-bar {\n",
       "        background: #F44336;\n",
       "    }\n",
       "</style>\n"
      ],
      "text/plain": [
       "<IPython.core.display.HTML object>"
      ]
     },
     "metadata": {},
     "output_type": "display_data"
    },
    {
     "data": {
      "text/html": [
       "<table border=\"1\" class=\"dataframe\">\n",
       "  <thead>\n",
       "    <tr style=\"text-align: left;\">\n",
       "      <th>epoch</th>\n",
       "      <th>train_loss</th>\n",
       "      <th>valid_loss</th>\n",
       "      <th>accuracy</th>\n",
       "      <th>time</th>\n",
       "    </tr>\n",
       "  </thead>\n",
       "  <tbody>\n",
       "    <tr>\n",
       "      <td>0</td>\n",
       "      <td>0.675051</td>\n",
       "      <td>0.702463</td>\n",
       "      <td>0.393258</td>\n",
       "      <td>00:00</td>\n",
       "    </tr>\n",
       "    <tr>\n",
       "      <td>1</td>\n",
       "      <td>0.582240</td>\n",
       "      <td>0.691855</td>\n",
       "      <td>0.438202</td>\n",
       "      <td>00:00</td>\n",
       "    </tr>\n",
       "    <tr>\n",
       "      <td>2</td>\n",
       "      <td>0.480987</td>\n",
       "      <td>0.678066</td>\n",
       "      <td>0.466292</td>\n",
       "      <td>00:00</td>\n",
       "    </tr>\n",
       "  </tbody>\n",
       "</table>"
      ],
      "text/plain": [
       "<IPython.core.display.HTML object>"
      ]
     },
     "metadata": {},
     "output_type": "display_data"
    }
   ],
   "source": [
    "learn.fit_one_cycle(3)"
   ]
  },
  {
   "cell_type": "code",
   "execution_count": 6,
   "id": "227ae7fc",
   "metadata": {
    "execution": {
     "iopub.execute_input": "2024-04-09T23:00:45.993438Z",
     "iopub.status.busy": "2024-04-09T23:00:45.993003Z",
     "iopub.status.idle": "2024-04-09T23:00:46.041523Z",
     "shell.execute_reply": "2024-04-09T23:00:46.040440Z"
    },
    "papermill": {
     "duration": 0.061923,
     "end_time": "2024-04-09T23:00:46.044116",
     "exception": false,
     "start_time": "2024-04-09T23:00:45.982193",
     "status": "completed"
    },
    "tags": []
   },
   "outputs": [
    {
     "data": {
      "text/html": [
       "\n",
       "<style>\n",
       "    /* Turns off some styling */\n",
       "    progress {\n",
       "        /* gets rid of default border in Firefox and Opera. */\n",
       "        border: none;\n",
       "        /* Needs to be in here for Safari polyfill so background images work as expected. */\n",
       "        background-size: auto;\n",
       "    }\n",
       "    progress:not([value]), progress:not([value])::-webkit-progress-bar {\n",
       "        background: repeating-linear-gradient(45deg, #7e7e7e, #7e7e7e 10px, #5c5c5c 10px, #5c5c5c 20px);\n",
       "    }\n",
       "    .progress-bar-interrupted, .progress-bar-interrupted::-webkit-progress-bar {\n",
       "        background: #F44336;\n",
       "    }\n",
       "</style>\n"
      ],
      "text/plain": [
       "<IPython.core.display.HTML object>"
      ]
     },
     "metadata": {},
     "output_type": "display_data"
    },
    {
     "data": {
      "text/html": [],
      "text/plain": [
       "<IPython.core.display.HTML object>"
      ]
     },
     "metadata": {},
     "output_type": "display_data"
    },
    {
     "data": {
      "text/html": [
       "<table border=\"1\" class=\"dataframe\">\n",
       "  <thead>\n",
       "    <tr style=\"text-align: right;\">\n",
       "      <th></th>\n",
       "      <th>PassengerId</th>\n",
       "      <th>Pclass</th>\n",
       "      <th>Name</th>\n",
       "      <th>Sex</th>\n",
       "      <th>Cabin</th>\n",
       "      <th>Embarked</th>\n",
       "      <th>Ticket</th>\n",
       "      <th>Age_na</th>\n",
       "      <th>Age</th>\n",
       "      <th>Fare</th>\n",
       "      <th>SibSp</th>\n",
       "      <th>Parch</th>\n",
       "      <th>Survived</th>\n",
       "      <th>Survived_pred</th>\n",
       "    </tr>\n",
       "  </thead>\n",
       "  <tbody>\n",
       "    <tr>\n",
       "      <th>0</th>\n",
       "      <td>0.0</td>\n",
       "      <td>3.0</td>\n",
       "      <td>51.0</td>\n",
       "      <td>1.0</td>\n",
       "      <td>0.0</td>\n",
       "      <td>1.0</td>\n",
       "      <td>209.0</td>\n",
       "      <td>1.0</td>\n",
       "      <td>-1.274893</td>\n",
       "      <td>-0.504297</td>\n",
       "      <td>-0.462629</td>\n",
       "      <td>-0.462981</td>\n",
       "      <td>1.0</td>\n",
       "      <td>1.0</td>\n",
       "    </tr>\n",
       "    <tr>\n",
       "      <th>1</th>\n",
       "      <td>0.0</td>\n",
       "      <td>1.0</td>\n",
       "      <td>191.0</td>\n",
       "      <td>1.0</td>\n",
       "      <td>82.0</td>\n",
       "      <td>1.0</td>\n",
       "      <td>597.0</td>\n",
       "      <td>1.0</td>\n",
       "      <td>0.624764</td>\n",
       "      <td>0.819542</td>\n",
       "      <td>0.482513</td>\n",
       "      <td>-0.462981</td>\n",
       "      <td>1.0</td>\n",
       "      <td>1.0</td>\n",
       "    </tr>\n",
       "    <tr>\n",
       "      <th>2</th>\n",
       "      <td>0.0</td>\n",
       "      <td>3.0</td>\n",
       "      <td>68.0</td>\n",
       "      <td>2.0</td>\n",
       "      <td>0.0</td>\n",
       "      <td>3.0</td>\n",
       "      <td>275.0</td>\n",
       "      <td>1.0</td>\n",
       "      <td>-0.591017</td>\n",
       "      <td>-0.487333</td>\n",
       "      <td>-0.462629</td>\n",
       "      <td>-0.462981</td>\n",
       "      <td>0.0</td>\n",
       "      <td>1.0</td>\n",
       "    </tr>\n",
       "    <tr>\n",
       "      <th>3</th>\n",
       "      <td>0.0</td>\n",
       "      <td>3.0</td>\n",
       "      <td>534.0</td>\n",
       "      <td>2.0</td>\n",
       "      <td>0.0</td>\n",
       "      <td>2.0</td>\n",
       "      <td>453.0</td>\n",
       "      <td>2.0</td>\n",
       "      <td>-0.097106</td>\n",
       "      <td>-0.493533</td>\n",
       "      <td>-0.462629</td>\n",
       "      <td>-0.462981</td>\n",
       "      <td>0.0</td>\n",
       "      <td>1.0</td>\n",
       "    </tr>\n",
       "    <tr>\n",
       "      <th>4</th>\n",
       "      <td>0.0</td>\n",
       "      <td>1.0</td>\n",
       "      <td>851.0</td>\n",
       "      <td>2.0</td>\n",
       "      <td>0.0</td>\n",
       "      <td>3.0</td>\n",
       "      <td>49.0</td>\n",
       "      <td>1.0</td>\n",
       "      <td>2.296463</td>\n",
       "      <td>-0.104984</td>\n",
       "      <td>-0.462629</td>\n",
       "      <td>-0.462981</td>\n",
       "      <td>0.0</td>\n",
       "      <td>0.0</td>\n",
       "    </tr>\n",
       "    <tr>\n",
       "      <th>5</th>\n",
       "      <td>0.0</td>\n",
       "      <td>3.0</td>\n",
       "      <td>23.0</td>\n",
       "      <td>2.0</td>\n",
       "      <td>0.0</td>\n",
       "      <td>3.0</td>\n",
       "      <td>334.0</td>\n",
       "      <td>1.0</td>\n",
       "      <td>-1.958770</td>\n",
       "      <td>-0.007330</td>\n",
       "      <td>3.317936</td>\n",
       "      <td>2.086098</td>\n",
       "      <td>0.0</td>\n",
       "      <td>0.0</td>\n",
       "    </tr>\n",
       "    <tr>\n",
       "      <th>6</th>\n",
       "      <td>0.0</td>\n",
       "      <td>3.0</td>\n",
       "      <td>561.0</td>\n",
       "      <td>2.0</td>\n",
       "      <td>0.0</td>\n",
       "      <td>1.0</td>\n",
       "      <td>190.0</td>\n",
       "      <td>2.0</td>\n",
       "      <td>-0.097106</td>\n",
       "      <td>-0.338614</td>\n",
       "      <td>0.482513</td>\n",
       "      <td>0.811558</td>\n",
       "      <td>1.0</td>\n",
       "      <td>1.0</td>\n",
       "    </tr>\n",
       "    <tr>\n",
       "      <th>7</th>\n",
       "      <td>0.0</td>\n",
       "      <td>3.0</td>\n",
       "      <td>294.0</td>\n",
       "      <td>2.0</td>\n",
       "      <td>0.0</td>\n",
       "      <td>3.0</td>\n",
       "      <td>424.0</td>\n",
       "      <td>1.0</td>\n",
       "      <td>-1.578839</td>\n",
       "      <td>-0.229506</td>\n",
       "      <td>-0.462629</td>\n",
       "      <td>2.086098</td>\n",
       "      <td>1.0</td>\n",
       "      <td>1.0</td>\n",
       "    </tr>\n",
       "    <tr>\n",
       "      <th>8</th>\n",
       "      <td>0.0</td>\n",
       "      <td>3.0</td>\n",
       "      <td>194.0</td>\n",
       "      <td>1.0</td>\n",
       "      <td>0.0</td>\n",
       "      <td>3.0</td>\n",
       "      <td>509.0</td>\n",
       "      <td>1.0</td>\n",
       "      <td>-0.591017</td>\n",
       "      <td>-0.436352</td>\n",
       "      <td>-0.462629</td>\n",
       "      <td>-0.462981</td>\n",
       "      <td>0.0</td>\n",
       "      <td>1.0</td>\n",
       "    </tr>\n",
       "  </tbody>\n",
       "</table>"
      ],
      "text/plain": [
       "<IPython.core.display.HTML object>"
      ]
     },
     "metadata": {},
     "output_type": "display_data"
    }
   ],
   "source": [
    "learn.show_results()"
   ]
  },
  {
   "cell_type": "markdown",
   "id": "4f5a60a8",
   "metadata": {
    "papermill": {
     "duration": 0.009831,
     "end_time": "2024-04-09T23:00:46.064731",
     "exception": false,
     "start_time": "2024-04-09T23:00:46.054900",
     "status": "completed"
    },
    "tags": []
   },
   "source": [
    "Lets try now by using pandas"
   ]
  },
  {
   "cell_type": "code",
   "execution_count": 7,
   "id": "5502c3fd",
   "metadata": {
    "execution": {
     "iopub.execute_input": "2024-04-09T23:00:46.086941Z",
     "iopub.status.busy": "2024-04-09T23:00:46.086526Z",
     "iopub.status.idle": "2024-04-09T23:00:46.092390Z",
     "shell.execute_reply": "2024-04-09T23:00:46.091265Z"
    },
    "papermill": {
     "duration": 0.019859,
     "end_time": "2024-04-09T23:00:46.094867",
     "exception": false,
     "start_time": "2024-04-09T23:00:46.075008",
     "status": "completed"
    },
    "tags": []
   },
   "outputs": [],
   "source": [
    "splits = RandomSplitter(valid_pct=0.2)(range_of(df))"
   ]
  },
  {
   "cell_type": "code",
   "execution_count": 8,
   "id": "9cbff954",
   "metadata": {
    "execution": {
     "iopub.execute_input": "2024-04-09T23:00:46.118656Z",
     "iopub.status.busy": "2024-04-09T23:00:46.118238Z",
     "iopub.status.idle": "2024-04-09T23:00:46.160782Z",
     "shell.execute_reply": "2024-04-09T23:00:46.159863Z"
    },
    "papermill": {
     "duration": 0.057402,
     "end_time": "2024-04-09T23:00:46.163830",
     "exception": false,
     "start_time": "2024-04-09T23:00:46.106428",
     "status": "completed"
    },
    "tags": []
   },
   "outputs": [
    {
     "name": "stderr",
     "output_type": "stream",
     "text": [
      "/opt/conda/lib/python3.10/site-packages/fastai/tabular/core.py:312: FutureWarning: A value is trying to be set on a copy of a DataFrame or Series through chained assignment using an inplace method.\n",
      "The behavior will change in pandas 3.0. This inplace method will never work because the intermediate object on which we are setting values always behaves as a copy.\n",
      "\n",
      "For example, when doing 'df[col].method(value, inplace=True)', try using 'df.method({col: value}, inplace=True)' or df[col] = df[col].method(value) instead, to perform the operation inplace on the original object.\n",
      "\n",
      "\n",
      "  to[n].fillna(self.na_dict[n], inplace=True)\n"
     ]
    }
   ],
   "source": [
    "to = TabularPandas(df, procs=[Categorify, FillMissing,Normalize],\n",
    "                   cat_names = ['Pclass', 'Name', 'Sex', 'Cabin', 'Embarked', 'Ticket'],\n",
    "                   cont_names = ['Age', 'Fare', 'SibSp', 'Parch'],\n",
    "                   y_names='Survived',\n",
    "                   splits=splits)"
   ]
  },
  {
   "cell_type": "code",
   "execution_count": 9,
   "id": "d2cc59cb",
   "metadata": {
    "execution": {
     "iopub.execute_input": "2024-04-09T23:00:46.187093Z",
     "iopub.status.busy": "2024-04-09T23:00:46.186393Z",
     "iopub.status.idle": "2024-04-09T23:00:46.201885Z",
     "shell.execute_reply": "2024-04-09T23:00:46.200676Z"
    },
    "papermill": {
     "duration": 0.03034,
     "end_time": "2024-04-09T23:00:46.204393",
     "exception": false,
     "start_time": "2024-04-09T23:00:46.174053",
     "status": "completed"
    },
    "tags": []
   },
   "outputs": [
    {
     "data": {
      "text/html": [
       "<div>\n",
       "<style scoped>\n",
       "    .dataframe tbody tr th:only-of-type {\n",
       "        vertical-align: middle;\n",
       "    }\n",
       "\n",
       "    .dataframe tbody tr th {\n",
       "        vertical-align: top;\n",
       "    }\n",
       "\n",
       "    .dataframe thead th {\n",
       "        text-align: right;\n",
       "    }\n",
       "</style>\n",
       "<table border=\"1\" class=\"dataframe\">\n",
       "  <thead>\n",
       "    <tr style=\"text-align: right;\">\n",
       "      <th></th>\n",
       "      <th>Pclass</th>\n",
       "      <th>Name</th>\n",
       "      <th>Sex</th>\n",
       "      <th>Cabin</th>\n",
       "      <th>Embarked</th>\n",
       "      <th>Ticket</th>\n",
       "      <th>Age_na</th>\n",
       "      <th>Age</th>\n",
       "      <th>Fare</th>\n",
       "      <th>SibSp</th>\n",
       "      <th>Parch</th>\n",
       "    </tr>\n",
       "  </thead>\n",
       "  <tbody>\n",
       "    <tr>\n",
       "      <th>416</th>\n",
       "      <td>2</td>\n",
       "      <td>227</td>\n",
       "      <td>1</td>\n",
       "      <td>0</td>\n",
       "      <td>3</td>\n",
       "      <td>225</td>\n",
       "      <td>1</td>\n",
       "      <td>0.366000</td>\n",
       "      <td>0.015361</td>\n",
       "      <td>0.403622</td>\n",
       "      <td>0.703406</td>\n",
       "    </tr>\n",
       "    <tr>\n",
       "      <th>723</th>\n",
       "      <td>2</td>\n",
       "      <td>369</td>\n",
       "      <td>2</td>\n",
       "      <td>0</td>\n",
       "      <td>3</td>\n",
       "      <td>162</td>\n",
       "      <td>1</td>\n",
       "      <td>1.579349</td>\n",
       "      <td>-0.406391</td>\n",
       "      <td>-0.479147</td>\n",
       "      <td>-0.487873</td>\n",
       "    </tr>\n",
       "  </tbody>\n",
       "</table>\n",
       "</div>"
      ],
      "text/plain": [
       "     Pclass  Name  Sex  Cabin  Embarked  Ticket  Age_na       Age      Fare  \\\n",
       "416       2   227    1      0         3     225       1  0.366000  0.015361   \n",
       "723       2   369    2      0         3     162       1  1.579349 -0.406391   \n",
       "\n",
       "        SibSp     Parch  \n",
       "416  0.403622  0.703406  \n",
       "723 -0.479147 -0.487873  "
      ]
     },
     "execution_count": 9,
     "metadata": {},
     "output_type": "execute_result"
    }
   ],
   "source": [
    "to.xs.iloc[:2]"
   ]
  },
  {
   "cell_type": "code",
   "execution_count": 10,
   "id": "c0b53739",
   "metadata": {
    "execution": {
     "iopub.execute_input": "2024-04-09T23:00:46.228011Z",
     "iopub.status.busy": "2024-04-09T23:00:46.227616Z",
     "iopub.status.idle": "2024-04-09T23:00:46.240620Z",
     "shell.execute_reply": "2024-04-09T23:00:46.239679Z"
    },
    "papermill": {
     "duration": 0.028292,
     "end_time": "2024-04-09T23:00:46.243287",
     "exception": false,
     "start_time": "2024-04-09T23:00:46.214995",
     "status": "completed"
    },
    "tags": []
   },
   "outputs": [],
   "source": [
    "dls2 = to.dataloaders(bs=64)"
   ]
  },
  {
   "cell_type": "code",
   "execution_count": 11,
   "id": "89cb050d",
   "metadata": {
    "execution": {
     "iopub.execute_input": "2024-04-09T23:00:46.267316Z",
     "iopub.status.busy": "2024-04-09T23:00:46.266865Z",
     "iopub.status.idle": "2024-04-09T23:00:46.304559Z",
     "shell.execute_reply": "2024-04-09T23:00:46.303150Z"
    },
    "papermill": {
     "duration": 0.053201,
     "end_time": "2024-04-09T23:00:46.307513",
     "exception": false,
     "start_time": "2024-04-09T23:00:46.254312",
     "status": "completed"
    },
    "tags": []
   },
   "outputs": [
    {
     "data": {
      "text/html": [
       "<table border=\"1\" class=\"dataframe\">\n",
       "  <thead>\n",
       "    <tr style=\"text-align: right;\">\n",
       "      <th></th>\n",
       "      <th>Pclass</th>\n",
       "      <th>Name</th>\n",
       "      <th>Sex</th>\n",
       "      <th>Cabin</th>\n",
       "      <th>Embarked</th>\n",
       "      <th>Ticket</th>\n",
       "      <th>Age_na</th>\n",
       "      <th>Age</th>\n",
       "      <th>Fare</th>\n",
       "      <th>SibSp</th>\n",
       "      <th>Parch</th>\n",
       "      <th>Survived</th>\n",
       "    </tr>\n",
       "  </thead>\n",
       "  <tbody>\n",
       "    <tr>\n",
       "      <th>0</th>\n",
       "      <td>2</td>\n",
       "      <td>Butler, Mr. Reginald Fenton</td>\n",
       "      <td>male</td>\n",
       "      <td>#na#</td>\n",
       "      <td>S</td>\n",
       "      <td>234686</td>\n",
       "      <td>False</td>\n",
       "      <td>25.000000</td>\n",
       "      <td>12.999999</td>\n",
       "      <td>-4.410101e-09</td>\n",
       "      <td>5.139476e-09</td>\n",
       "      <td>0.0</td>\n",
       "    </tr>\n",
       "    <tr>\n",
       "      <th>1</th>\n",
       "      <td>3</td>\n",
       "      <td>Jalsevac, Mr. Ivan</td>\n",
       "      <td>male</td>\n",
       "      <td>#na#</td>\n",
       "      <td>C</td>\n",
       "      <td>349240</td>\n",
       "      <td>False</td>\n",
       "      <td>29.000000</td>\n",
       "      <td>7.895800</td>\n",
       "      <td>-4.410101e-09</td>\n",
       "      <td>5.139476e-09</td>\n",
       "      <td>1.0</td>\n",
       "    </tr>\n",
       "    <tr>\n",
       "      <th>2</th>\n",
       "      <td>3</td>\n",
       "      <td>Stranden, Mr. Juho</td>\n",
       "      <td>male</td>\n",
       "      <td>#na#</td>\n",
       "      <td>S</td>\n",
       "      <td>STON/O 2. 3101288</td>\n",
       "      <td>False</td>\n",
       "      <td>31.000000</td>\n",
       "      <td>7.925001</td>\n",
       "      <td>-4.410101e-09</td>\n",
       "      <td>5.139476e-09</td>\n",
       "      <td>1.0</td>\n",
       "    </tr>\n",
       "    <tr>\n",
       "      <th>3</th>\n",
       "      <td>3</td>\n",
       "      <td>Goodwin, Master. Sidney Leonard</td>\n",
       "      <td>male</td>\n",
       "      <td>#na#</td>\n",
       "      <td>S</td>\n",
       "      <td>CA 2144</td>\n",
       "      <td>False</td>\n",
       "      <td>1.000000</td>\n",
       "      <td>46.900001</td>\n",
       "      <td>5.000000e+00</td>\n",
       "      <td>2.000000e+00</td>\n",
       "      <td>0.0</td>\n",
       "    </tr>\n",
       "    <tr>\n",
       "      <th>4</th>\n",
       "      <td>1</td>\n",
       "      <td>Lines, Miss. Mary Conover</td>\n",
       "      <td>female</td>\n",
       "      <td>D28</td>\n",
       "      <td>S</td>\n",
       "      <td>PC 17592</td>\n",
       "      <td>False</td>\n",
       "      <td>16.000000</td>\n",
       "      <td>39.400001</td>\n",
       "      <td>-4.410101e-09</td>\n",
       "      <td>1.000000e+00</td>\n",
       "      <td>1.0</td>\n",
       "    </tr>\n",
       "    <tr>\n",
       "      <th>5</th>\n",
       "      <td>3</td>\n",
       "      <td>Ford, Miss. Robina Maggie \"Ruby\"</td>\n",
       "      <td>female</td>\n",
       "      <td>#na#</td>\n",
       "      <td>S</td>\n",
       "      <td>W./C. 6608</td>\n",
       "      <td>False</td>\n",
       "      <td>9.000000</td>\n",
       "      <td>34.375000</td>\n",
       "      <td>2.000000e+00</td>\n",
       "      <td>2.000000e+00</td>\n",
       "      <td>0.0</td>\n",
       "    </tr>\n",
       "    <tr>\n",
       "      <th>6</th>\n",
       "      <td>3</td>\n",
       "      <td>Kraeff, Mr. Theodor</td>\n",
       "      <td>male</td>\n",
       "      <td>#na#</td>\n",
       "      <td>C</td>\n",
       "      <td>349253</td>\n",
       "      <td>True</td>\n",
       "      <td>28.000000</td>\n",
       "      <td>7.895800</td>\n",
       "      <td>-4.410101e-09</td>\n",
       "      <td>5.139476e-09</td>\n",
       "      <td>0.0</td>\n",
       "    </tr>\n",
       "    <tr>\n",
       "      <th>7</th>\n",
       "      <td>2</td>\n",
       "      <td>Kelly, Mrs. Florence \"Fannie\"</td>\n",
       "      <td>female</td>\n",
       "      <td>#na#</td>\n",
       "      <td>S</td>\n",
       "      <td>223596</td>\n",
       "      <td>False</td>\n",
       "      <td>45.000000</td>\n",
       "      <td>13.500000</td>\n",
       "      <td>-4.410101e-09</td>\n",
       "      <td>5.139476e-09</td>\n",
       "      <td>1.0</td>\n",
       "    </tr>\n",
       "    <tr>\n",
       "      <th>8</th>\n",
       "      <td>3</td>\n",
       "      <td>Backstrom, Mr. Karl Alfred</td>\n",
       "      <td>male</td>\n",
       "      <td>#na#</td>\n",
       "      <td>S</td>\n",
       "      <td>3101278</td>\n",
       "      <td>False</td>\n",
       "      <td>32.000000</td>\n",
       "      <td>15.850000</td>\n",
       "      <td>1.000000e+00</td>\n",
       "      <td>5.139476e-09</td>\n",
       "      <td>0.0</td>\n",
       "    </tr>\n",
       "    <tr>\n",
       "      <th>9</th>\n",
       "      <td>3</td>\n",
       "      <td>Zabour, Miss. Hileni</td>\n",
       "      <td>female</td>\n",
       "      <td>#na#</td>\n",
       "      <td>C</td>\n",
       "      <td>2665</td>\n",
       "      <td>False</td>\n",
       "      <td>14.499999</td>\n",
       "      <td>14.454200</td>\n",
       "      <td>1.000000e+00</td>\n",
       "      <td>5.139476e-09</td>\n",
       "      <td>0.0</td>\n",
       "    </tr>\n",
       "  </tbody>\n",
       "</table>"
      ],
      "text/plain": [
       "<IPython.core.display.HTML object>"
      ]
     },
     "metadata": {},
     "output_type": "display_data"
    }
   ],
   "source": [
    "dls2.show_batch()"
   ]
  },
  {
   "cell_type": "code",
   "execution_count": 12,
   "id": "51653ce4",
   "metadata": {
    "execution": {
     "iopub.execute_input": "2024-04-09T23:00:46.331367Z",
     "iopub.status.busy": "2024-04-09T23:00:46.330850Z",
     "iopub.status.idle": "2024-04-09T23:00:46.345910Z",
     "shell.execute_reply": "2024-04-09T23:00:46.344845Z"
    },
    "papermill": {
     "duration": 0.030286,
     "end_time": "2024-04-09T23:00:46.348623",
     "exception": false,
     "start_time": "2024-04-09T23:00:46.318337",
     "status": "completed"
    },
    "tags": []
   },
   "outputs": [],
   "source": [
    "learn2 = tabular_learner(dls2, metrics=accuracy)"
   ]
  },
  {
   "cell_type": "code",
   "execution_count": 13,
   "id": "0a83bdb9",
   "metadata": {
    "execution": {
     "iopub.execute_input": "2024-04-09T23:00:46.371879Z",
     "iopub.status.busy": "2024-04-09T23:00:46.371400Z",
     "iopub.status.idle": "2024-04-09T23:00:47.032379Z",
     "shell.execute_reply": "2024-04-09T23:00:47.031157Z"
    },
    "papermill": {
     "duration": 0.675607,
     "end_time": "2024-04-09T23:00:47.034969",
     "exception": false,
     "start_time": "2024-04-09T23:00:46.359362",
     "status": "completed"
    },
    "tags": []
   },
   "outputs": [
    {
     "data": {
      "text/html": [
       "\n",
       "<style>\n",
       "    /* Turns off some styling */\n",
       "    progress {\n",
       "        /* gets rid of default border in Firefox and Opera. */\n",
       "        border: none;\n",
       "        /* Needs to be in here for Safari polyfill so background images work as expected. */\n",
       "        background-size: auto;\n",
       "    }\n",
       "    progress:not([value]), progress:not([value])::-webkit-progress-bar {\n",
       "        background: repeating-linear-gradient(45deg, #7e7e7e, #7e7e7e 10px, #5c5c5c 10px, #5c5c5c 20px);\n",
       "    }\n",
       "    .progress-bar-interrupted, .progress-bar-interrupted::-webkit-progress-bar {\n",
       "        background: #F44336;\n",
       "    }\n",
       "</style>\n"
      ],
      "text/plain": [
       "<IPython.core.display.HTML object>"
      ]
     },
     "metadata": {},
     "output_type": "display_data"
    },
    {
     "data": {
      "text/html": [
       "<table border=\"1\" class=\"dataframe\">\n",
       "  <thead>\n",
       "    <tr style=\"text-align: left;\">\n",
       "      <th>epoch</th>\n",
       "      <th>train_loss</th>\n",
       "      <th>valid_loss</th>\n",
       "      <th>accuracy</th>\n",
       "      <th>time</th>\n",
       "    </tr>\n",
       "  </thead>\n",
       "  <tbody>\n",
       "    <tr>\n",
       "      <td>0</td>\n",
       "      <td>0.542845</td>\n",
       "      <td>0.433542</td>\n",
       "      <td>0.606742</td>\n",
       "      <td>00:00</td>\n",
       "    </tr>\n",
       "    <tr>\n",
       "      <td>1</td>\n",
       "      <td>0.397512</td>\n",
       "      <td>0.461941</td>\n",
       "      <td>0.606742</td>\n",
       "      <td>00:00</td>\n",
       "    </tr>\n",
       "    <tr>\n",
       "      <td>2</td>\n",
       "      <td>0.313034</td>\n",
       "      <td>0.459517</td>\n",
       "      <td>0.606742</td>\n",
       "      <td>00:00</td>\n",
       "    </tr>\n",
       "  </tbody>\n",
       "</table>"
      ],
      "text/plain": [
       "<IPython.core.display.HTML object>"
      ]
     },
     "metadata": {},
     "output_type": "display_data"
    }
   ],
   "source": [
    "learn2.fit_one_cycle(3)"
   ]
  },
  {
   "cell_type": "markdown",
   "id": "2e73ecfa",
   "metadata": {
    "papermill": {
     "duration": 0.01055,
     "end_time": "2024-04-09T23:00:47.057815",
     "exception": false,
     "start_time": "2024-04-09T23:00:47.047265",
     "status": "completed"
    },
    "tags": []
   },
   "source": [
    "Now lets tree random forests (better at tabular data in general see: https://medium.com/geekculture/why-tree-based-models-beat-deep-learning-on-tabular-data-fcad692b1456)"
   ]
  },
  {
   "cell_type": "markdown",
   "id": "f41ef32f",
   "metadata": {
    "papermill": {
     "duration": 0.010645,
     "end_time": "2024-04-09T23:00:47.079989",
     "exception": false,
     "start_time": "2024-04-09T23:00:47.069344",
     "status": "completed"
    },
    "tags": []
   },
   "source": [
    "The following code is from a tutorial on the titanic submissions https://www.kaggle.com/code/alexisbcook/titanic-tutorial"
   ]
  },
  {
   "cell_type": "code",
   "execution_count": 14,
   "id": "f282ad62",
   "metadata": {
    "execution": {
     "iopub.execute_input": "2024-04-09T23:00:47.103843Z",
     "iopub.status.busy": "2024-04-09T23:00:47.103320Z",
     "iopub.status.idle": "2024-04-09T23:00:47.128409Z",
     "shell.execute_reply": "2024-04-09T23:00:47.126779Z"
    },
    "papermill": {
     "duration": 0.040321,
     "end_time": "2024-04-09T23:00:47.131063",
     "exception": false,
     "start_time": "2024-04-09T23:00:47.090742",
     "status": "completed"
    },
    "tags": []
   },
   "outputs": [
    {
     "data": {
      "text/html": [
       "<div>\n",
       "<style scoped>\n",
       "    .dataframe tbody tr th:only-of-type {\n",
       "        vertical-align: middle;\n",
       "    }\n",
       "\n",
       "    .dataframe tbody tr th {\n",
       "        vertical-align: top;\n",
       "    }\n",
       "\n",
       "    .dataframe thead th {\n",
       "        text-align: right;\n",
       "    }\n",
       "</style>\n",
       "<table border=\"1\" class=\"dataframe\">\n",
       "  <thead>\n",
       "    <tr style=\"text-align: right;\">\n",
       "      <th></th>\n",
       "      <th>PassengerId</th>\n",
       "      <th>Survived</th>\n",
       "      <th>Pclass</th>\n",
       "      <th>Name</th>\n",
       "      <th>Sex</th>\n",
       "      <th>Age</th>\n",
       "      <th>SibSp</th>\n",
       "      <th>Parch</th>\n",
       "      <th>Ticket</th>\n",
       "      <th>Fare</th>\n",
       "      <th>Cabin</th>\n",
       "      <th>Embarked</th>\n",
       "    </tr>\n",
       "  </thead>\n",
       "  <tbody>\n",
       "    <tr>\n",
       "      <th>0</th>\n",
       "      <td>1</td>\n",
       "      <td>0</td>\n",
       "      <td>3</td>\n",
       "      <td>Braund, Mr. Owen Harris</td>\n",
       "      <td>male</td>\n",
       "      <td>22.0</td>\n",
       "      <td>1</td>\n",
       "      <td>0</td>\n",
       "      <td>A/5 21171</td>\n",
       "      <td>7.2500</td>\n",
       "      <td>NaN</td>\n",
       "      <td>S</td>\n",
       "    </tr>\n",
       "    <tr>\n",
       "      <th>1</th>\n",
       "      <td>2</td>\n",
       "      <td>1</td>\n",
       "      <td>1</td>\n",
       "      <td>Cumings, Mrs. John Bradley (Florence Briggs Thayer)</td>\n",
       "      <td>female</td>\n",
       "      <td>38.0</td>\n",
       "      <td>1</td>\n",
       "      <td>0</td>\n",
       "      <td>PC 17599</td>\n",
       "      <td>71.2833</td>\n",
       "      <td>C85</td>\n",
       "      <td>C</td>\n",
       "    </tr>\n",
       "    <tr>\n",
       "      <th>2</th>\n",
       "      <td>3</td>\n",
       "      <td>1</td>\n",
       "      <td>3</td>\n",
       "      <td>Heikkinen, Miss. Laina</td>\n",
       "      <td>female</td>\n",
       "      <td>26.0</td>\n",
       "      <td>0</td>\n",
       "      <td>0</td>\n",
       "      <td>STON/O2. 3101282</td>\n",
       "      <td>7.9250</td>\n",
       "      <td>NaN</td>\n",
       "      <td>S</td>\n",
       "    </tr>\n",
       "    <tr>\n",
       "      <th>3</th>\n",
       "      <td>4</td>\n",
       "      <td>1</td>\n",
       "      <td>1</td>\n",
       "      <td>Futrelle, Mrs. Jacques Heath (Lily May Peel)</td>\n",
       "      <td>female</td>\n",
       "      <td>35.0</td>\n",
       "      <td>1</td>\n",
       "      <td>0</td>\n",
       "      <td>113803</td>\n",
       "      <td>53.1000</td>\n",
       "      <td>C123</td>\n",
       "      <td>S</td>\n",
       "    </tr>\n",
       "    <tr>\n",
       "      <th>4</th>\n",
       "      <td>5</td>\n",
       "      <td>0</td>\n",
       "      <td>3</td>\n",
       "      <td>Allen, Mr. William Henry</td>\n",
       "      <td>male</td>\n",
       "      <td>35.0</td>\n",
       "      <td>0</td>\n",
       "      <td>0</td>\n",
       "      <td>373450</td>\n",
       "      <td>8.0500</td>\n",
       "      <td>NaN</td>\n",
       "      <td>S</td>\n",
       "    </tr>\n",
       "  </tbody>\n",
       "</table>\n",
       "</div>"
      ],
      "text/plain": [
       "   PassengerId  Survived  Pclass  \\\n",
       "0            1         0       3   \n",
       "1            2         1       1   \n",
       "2            3         1       3   \n",
       "3            4         1       1   \n",
       "4            5         0       3   \n",
       "\n",
       "                                                  Name     Sex   Age  SibSp  \\\n",
       "0                              Braund, Mr. Owen Harris    male  22.0      1   \n",
       "1  Cumings, Mrs. John Bradley (Florence Briggs Thayer)  female  38.0      1   \n",
       "2                               Heikkinen, Miss. Laina  female  26.0      0   \n",
       "3         Futrelle, Mrs. Jacques Heath (Lily May Peel)  female  35.0      1   \n",
       "4                             Allen, Mr. William Henry    male  35.0      0   \n",
       "\n",
       "   Parch            Ticket     Fare Cabin Embarked  \n",
       "0      0         A/5 21171   7.2500   NaN        S  \n",
       "1      0          PC 17599  71.2833   C85        C  \n",
       "2      0  STON/O2. 3101282   7.9250   NaN        S  \n",
       "3      0            113803  53.1000  C123        S  \n",
       "4      0            373450   8.0500   NaN        S  "
      ]
     },
     "execution_count": 14,
     "metadata": {},
     "output_type": "execute_result"
    }
   ],
   "source": [
    "train_data = pd.read_csv(\"/kaggle/input/titanic/train.csv\")\n",
    "train_data.head()"
   ]
  },
  {
   "cell_type": "code",
   "execution_count": 15,
   "id": "5fa73e07",
   "metadata": {
    "execution": {
     "iopub.execute_input": "2024-04-09T23:00:47.157444Z",
     "iopub.status.busy": "2024-04-09T23:00:47.156996Z",
     "iopub.status.idle": "2024-04-09T23:00:47.182069Z",
     "shell.execute_reply": "2024-04-09T23:00:47.181049Z"
    },
    "papermill": {
     "duration": 0.0406,
     "end_time": "2024-04-09T23:00:47.184473",
     "exception": false,
     "start_time": "2024-04-09T23:00:47.143873",
     "status": "completed"
    },
    "tags": []
   },
   "outputs": [
    {
     "data": {
      "text/html": [
       "<div>\n",
       "<style scoped>\n",
       "    .dataframe tbody tr th:only-of-type {\n",
       "        vertical-align: middle;\n",
       "    }\n",
       "\n",
       "    .dataframe tbody tr th {\n",
       "        vertical-align: top;\n",
       "    }\n",
       "\n",
       "    .dataframe thead th {\n",
       "        text-align: right;\n",
       "    }\n",
       "</style>\n",
       "<table border=\"1\" class=\"dataframe\">\n",
       "  <thead>\n",
       "    <tr style=\"text-align: right;\">\n",
       "      <th></th>\n",
       "      <th>PassengerId</th>\n",
       "      <th>Pclass</th>\n",
       "      <th>Name</th>\n",
       "      <th>Sex</th>\n",
       "      <th>Age</th>\n",
       "      <th>SibSp</th>\n",
       "      <th>Parch</th>\n",
       "      <th>Ticket</th>\n",
       "      <th>Fare</th>\n",
       "      <th>Cabin</th>\n",
       "      <th>Embarked</th>\n",
       "    </tr>\n",
       "  </thead>\n",
       "  <tbody>\n",
       "    <tr>\n",
       "      <th>0</th>\n",
       "      <td>892</td>\n",
       "      <td>3</td>\n",
       "      <td>Kelly, Mr. James</td>\n",
       "      <td>male</td>\n",
       "      <td>34.5</td>\n",
       "      <td>0</td>\n",
       "      <td>0</td>\n",
       "      <td>330911</td>\n",
       "      <td>7.8292</td>\n",
       "      <td>NaN</td>\n",
       "      <td>Q</td>\n",
       "    </tr>\n",
       "    <tr>\n",
       "      <th>1</th>\n",
       "      <td>893</td>\n",
       "      <td>3</td>\n",
       "      <td>Wilkes, Mrs. James (Ellen Needs)</td>\n",
       "      <td>female</td>\n",
       "      <td>47.0</td>\n",
       "      <td>1</td>\n",
       "      <td>0</td>\n",
       "      <td>363272</td>\n",
       "      <td>7.0000</td>\n",
       "      <td>NaN</td>\n",
       "      <td>S</td>\n",
       "    </tr>\n",
       "    <tr>\n",
       "      <th>2</th>\n",
       "      <td>894</td>\n",
       "      <td>2</td>\n",
       "      <td>Myles, Mr. Thomas Francis</td>\n",
       "      <td>male</td>\n",
       "      <td>62.0</td>\n",
       "      <td>0</td>\n",
       "      <td>0</td>\n",
       "      <td>240276</td>\n",
       "      <td>9.6875</td>\n",
       "      <td>NaN</td>\n",
       "      <td>Q</td>\n",
       "    </tr>\n",
       "    <tr>\n",
       "      <th>3</th>\n",
       "      <td>895</td>\n",
       "      <td>3</td>\n",
       "      <td>Wirz, Mr. Albert</td>\n",
       "      <td>male</td>\n",
       "      <td>27.0</td>\n",
       "      <td>0</td>\n",
       "      <td>0</td>\n",
       "      <td>315154</td>\n",
       "      <td>8.6625</td>\n",
       "      <td>NaN</td>\n",
       "      <td>S</td>\n",
       "    </tr>\n",
       "    <tr>\n",
       "      <th>4</th>\n",
       "      <td>896</td>\n",
       "      <td>3</td>\n",
       "      <td>Hirvonen, Mrs. Alexander (Helga E Lindqvist)</td>\n",
       "      <td>female</td>\n",
       "      <td>22.0</td>\n",
       "      <td>1</td>\n",
       "      <td>1</td>\n",
       "      <td>3101298</td>\n",
       "      <td>12.2875</td>\n",
       "      <td>NaN</td>\n",
       "      <td>S</td>\n",
       "    </tr>\n",
       "  </tbody>\n",
       "</table>\n",
       "</div>"
      ],
      "text/plain": [
       "   PassengerId  Pclass                                          Name     Sex  \\\n",
       "0          892       3                              Kelly, Mr. James    male   \n",
       "1          893       3              Wilkes, Mrs. James (Ellen Needs)  female   \n",
       "2          894       2                     Myles, Mr. Thomas Francis    male   \n",
       "3          895       3                              Wirz, Mr. Albert    male   \n",
       "4          896       3  Hirvonen, Mrs. Alexander (Helga E Lindqvist)  female   \n",
       "\n",
       "    Age  SibSp  Parch   Ticket     Fare Cabin Embarked  \n",
       "0  34.5      0      0   330911   7.8292   NaN        Q  \n",
       "1  47.0      1      0   363272   7.0000   NaN        S  \n",
       "2  62.0      0      0   240276   9.6875   NaN        Q  \n",
       "3  27.0      0      0   315154   8.6625   NaN        S  \n",
       "4  22.0      1      1  3101298  12.2875   NaN        S  "
      ]
     },
     "execution_count": 15,
     "metadata": {},
     "output_type": "execute_result"
    }
   ],
   "source": [
    "test_data = pd.read_csv(\"/kaggle/input/titanic/test.csv\")\n",
    "test_data.head()"
   ]
  },
  {
   "cell_type": "code",
   "execution_count": 16,
   "id": "d30a9626",
   "metadata": {
    "execution": {
     "iopub.execute_input": "2024-04-09T23:00:47.209979Z",
     "iopub.status.busy": "2024-04-09T23:00:47.209538Z",
     "iopub.status.idle": "2024-04-09T23:00:47.219337Z",
     "shell.execute_reply": "2024-04-09T23:00:47.217807Z"
    },
    "papermill": {
     "duration": 0.026397,
     "end_time": "2024-04-09T23:00:47.222347",
     "exception": false,
     "start_time": "2024-04-09T23:00:47.195950",
     "status": "completed"
    },
    "tags": []
   },
   "outputs": [
    {
     "name": "stdout",
     "output_type": "stream",
     "text": [
      "% of women who survived: 0.7420382165605095\n"
     ]
    }
   ],
   "source": [
    "women = train_data.loc[train_data.Sex == 'female'][\"Survived\"]\n",
    "rate_women = sum(women)/len(women)\n",
    "\n",
    "print(\"% of women who survived:\", rate_women)"
   ]
  },
  {
   "cell_type": "code",
   "execution_count": 17,
   "id": "295908ad",
   "metadata": {
    "execution": {
     "iopub.execute_input": "2024-04-09T23:00:47.248384Z",
     "iopub.status.busy": "2024-04-09T23:00:47.247956Z",
     "iopub.status.idle": "2024-04-09T23:00:47.256757Z",
     "shell.execute_reply": "2024-04-09T23:00:47.255346Z"
    },
    "papermill": {
     "duration": 0.024901,
     "end_time": "2024-04-09T23:00:47.259300",
     "exception": false,
     "start_time": "2024-04-09T23:00:47.234399",
     "status": "completed"
    },
    "tags": []
   },
   "outputs": [
    {
     "name": "stdout",
     "output_type": "stream",
     "text": [
      "% of men who survived: 0.18890814558058924\n"
     ]
    }
   ],
   "source": [
    "men = train_data.loc[train_data.Sex == 'male'][\"Survived\"]\n",
    "rate_men = sum(men)/len(men)\n",
    "\n",
    "print(\"% of men who survived:\", rate_men)"
   ]
  },
  {
   "cell_type": "code",
   "execution_count": 18,
   "id": "a4ed7656",
   "metadata": {
    "execution": {
     "iopub.execute_input": "2024-04-09T23:00:47.285681Z",
     "iopub.status.busy": "2024-04-09T23:00:47.285251Z",
     "iopub.status.idle": "2024-04-09T23:00:47.810872Z",
     "shell.execute_reply": "2024-04-09T23:00:47.809314Z"
    },
    "papermill": {
     "duration": 0.542446,
     "end_time": "2024-04-09T23:00:47.813793",
     "exception": false,
     "start_time": "2024-04-09T23:00:47.271347",
     "status": "completed"
    },
    "tags": []
   },
   "outputs": [
    {
     "name": "stdout",
     "output_type": "stream",
     "text": [
      "Your submission was successfully saved!\n"
     ]
    }
   ],
   "source": [
    "from sklearn.ensemble import RandomForestClassifier\n",
    "\n",
    "y = train_data[\"Survived\"]\n",
    "\n",
    "features = [\"Pclass\", \"Sex\", \"SibSp\", \"Parch\"] # sqrt(12) == 3.5\n",
    "X = pd.get_dummies(train_data[features])\n",
    "X_test = pd.get_dummies(test_data[features])\n",
    "\n",
    "model = RandomForestClassifier(n_estimators=100, max_depth=5, random_state=1)\n",
    "model.fit(X, y)\n",
    "predictions = model.predict(X_test)\n",
    "\n",
    "output = pd.DataFrame({'PassengerId': test_data.PassengerId, 'Survived': predictions})\n",
    "\n",
    "output.to_csv('submission.csv', index=False)\n",
    "print(\"Your submission was successfully saved!\")"
   ]
  },
  {
   "cell_type": "markdown",
   "id": "9ccbca30",
   "metadata": {
    "papermill": {
     "duration": 0.012148,
     "end_time": "2024-04-09T23:00:47.839165",
     "exception": false,
     "start_time": "2024-04-09T23:00:47.827017",
     "status": "completed"
    },
    "tags": []
   },
   "source": [
    "let check against trained data since test does not have survived"
   ]
  },
  {
   "cell_type": "code",
   "execution_count": 19,
   "id": "c0b14578",
   "metadata": {
    "execution": {
     "iopub.execute_input": "2024-04-09T23:00:47.865376Z",
     "iopub.status.busy": "2024-04-09T23:00:47.864934Z",
     "iopub.status.idle": "2024-04-09T23:00:47.903145Z",
     "shell.execute_reply": "2024-04-09T23:00:47.901660Z"
    },
    "papermill": {
     "duration": 0.054596,
     "end_time": "2024-04-09T23:00:47.905964",
     "exception": false,
     "start_time": "2024-04-09T23:00:47.851368",
     "status": "completed"
    },
    "tags": []
   },
   "outputs": [
    {
     "name": "stdout",
     "output_type": "stream",
     "text": [
      "accuracy 0.8159371492704826\n"
     ]
    }
   ],
   "source": [
    "X_test_train = pd.get_dummies(train_data[features])\n",
    "predictions = model.predict(X_test_train)\n",
    "wrong = 0\n",
    "for index, prediction in enumerate(predictions):\n",
    "    if prediction != train_data.at[index, 'Survived']:\n",
    "        wrong = wrong + 1\n",
    "print(\"accuracy\", 1 - (wrong / len(predictions)))"
   ]
  },
  {
   "cell_type": "code",
   "execution_count": null,
   "id": "14de046c",
   "metadata": {
    "papermill": {
     "duration": 0.01208,
     "end_time": "2024-04-09T23:00:47.930445",
     "exception": false,
     "start_time": "2024-04-09T23:00:47.918365",
     "status": "completed"
    },
    "tags": []
   },
   "outputs": [],
   "source": []
  }
 ],
 "metadata": {
  "kaggle": {
   "accelerator": "none",
   "dataSources": [
    {
     "databundleVersionId": 26502,
     "sourceId": 3136,
     "sourceType": "competition"
    }
   ],
   "dockerImageVersionId": 30684,
   "isGpuEnabled": false,
   "isInternetEnabled": true,
   "language": "python",
   "sourceType": "notebook"
  },
  "kernelspec": {
   "display_name": "Python 3",
   "language": "python",
   "name": "python3"
  },
  "language_info": {
   "codemirror_mode": {
    "name": "ipython",
    "version": 3
   },
   "file_extension": ".py",
   "mimetype": "text/x-python",
   "name": "python",
   "nbconvert_exporter": "python",
   "pygments_lexer": "ipython3",
   "version": "3.10.13"
  },
  "papermill": {
   "default_parameters": {},
   "duration": 15.691725,
   "end_time": "2024-04-09T23:00:49.368872",
   "environment_variables": {},
   "exception": null,
   "input_path": "__notebook__.ipynb",
   "output_path": "__notebook__.ipynb",
   "parameters": {},
   "start_time": "2024-04-09T23:00:33.677147",
   "version": "2.5.0"
  }
 },
 "nbformat": 4,
 "nbformat_minor": 5
}
